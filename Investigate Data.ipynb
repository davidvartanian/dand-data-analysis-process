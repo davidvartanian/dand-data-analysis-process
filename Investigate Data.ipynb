{
 "cells": [
  {
   "cell_type": "markdown",
   "metadata": {},
   "source": [
    "## Introduction\n",
    "\n",
    "In this analysis report I would like to find some patterns or characteristics that make some players the best.<br>\n",
    "After analysing the data I will use data analysis and statistics techniques using the libraries *Pandas*, *Numpy* and *Matplotlib* to manage datasets, make vectorized calculations and create visualisations to help understand the results.\n",
    "\n",
    "### Questions\n",
    "\n",
    "1. Which school did best players go to?\n",
    "2. Did best players get highest salaries?\n",
    "3. Is there a correlation between best teams and managers?"
   ]
  },
  {
   "cell_type": "code",
   "execution_count": 1,
   "metadata": {},
   "outputs": [
    {
     "name": "stdout",
     "output_type": "stream",
     "text": [
      "Populating the interactive namespace from numpy and matplotlib\n"
     ]
    },
    {
     "data": {
      "text/html": [
       "\n",
       "    <div class=\"bk-root\">\n",
       "        <a href=\"http://bokeh.pydata.org\" target=\"_blank\" class=\"bk-logo bk-logo-small bk-logo-notebook\"></a>\n",
       "        <span id=\"c2ab9fe5-64fd-4b83-b7a7-f0877cc12740\">Loading BokehJS ...</span>\n",
       "    </div>"
      ]
     },
     "metadata": {},
     "output_type": "display_data"
    },
    {
     "data": {
      "application/javascript": [
       "\n",
       "(function(global) {\n",
       "  function now() {\n",
       "    return new Date();\n",
       "  }\n",
       "\n",
       "  var force = true;\n",
       "\n",
       "  if (typeof (window._bokeh_onload_callbacks) === \"undefined\" || force === true) {\n",
       "    window._bokeh_onload_callbacks = [];\n",
       "    window._bokeh_is_loading = undefined;\n",
       "  }\n",
       "\n",
       "\n",
       "  \n",
       "  if (typeof (window._bokeh_timeout) === \"undefined\" || force === true) {\n",
       "    window._bokeh_timeout = Date.now() + 5000;\n",
       "    window._bokeh_failed_load = false;\n",
       "  }\n",
       "\n",
       "  var NB_LOAD_WARNING = {'data': {'text/html':\n",
       "     \"<div style='background-color: #fdd'>\\n\"+\n",
       "     \"<p>\\n\"+\n",
       "     \"BokehJS does not appear to have successfully loaded. If loading BokehJS from CDN, this \\n\"+\n",
       "     \"may be due to a slow or bad network connection. Possible fixes:\\n\"+\n",
       "     \"</p>\\n\"+\n",
       "     \"<ul>\\n\"+\n",
       "     \"<li>re-rerun `output_notebook()` to attempt to load from CDN again, or</li>\\n\"+\n",
       "     \"<li>use INLINE resources instead, as so:</li>\\n\"+\n",
       "     \"</ul>\\n\"+\n",
       "     \"<code>\\n\"+\n",
       "     \"from bokeh.resources import INLINE\\n\"+\n",
       "     \"output_notebook(resources=INLINE)\\n\"+\n",
       "     \"</code>\\n\"+\n",
       "     \"</div>\"}};\n",
       "\n",
       "  function display_loaded() {\n",
       "    if (window.Bokeh !== undefined) {\n",
       "      var el = document.getElementById(\"c2ab9fe5-64fd-4b83-b7a7-f0877cc12740\");\n",
       "      el.textContent = \"BokehJS \" + Bokeh.version + \" successfully loaded.\";\n",
       "    } else if (Date.now() < window._bokeh_timeout) {\n",
       "      setTimeout(display_loaded, 100)\n",
       "    }\n",
       "  }\n",
       "\n",
       "  function run_callbacks() {\n",
       "    try {\n",
       "      window._bokeh_onload_callbacks.forEach(function(callback) { callback() });\n",
       "    }\n",
       "    finally {\n",
       "      delete window._bokeh_onload_callbacks\n",
       "    }\n",
       "    console.info(\"Bokeh: all callbacks have finished\");\n",
       "  }\n",
       "\n",
       "  function load_libs(js_urls, callback) {\n",
       "    window._bokeh_onload_callbacks.push(callback);\n",
       "    if (window._bokeh_is_loading > 0) {\n",
       "      console.log(\"Bokeh: BokehJS is being loaded, scheduling callback at\", now());\n",
       "      return null;\n",
       "    }\n",
       "    if (js_urls == null || js_urls.length === 0) {\n",
       "      run_callbacks();\n",
       "      return null;\n",
       "    }\n",
       "    console.log(\"Bokeh: BokehJS not loaded, scheduling load and callback at\", now());\n",
       "    window._bokeh_is_loading = js_urls.length;\n",
       "    for (var i = 0; i < js_urls.length; i++) {\n",
       "      var url = js_urls[i];\n",
       "      var s = document.createElement('script');\n",
       "      s.src = url;\n",
       "      s.async = false;\n",
       "      s.onreadystatechange = s.onload = function() {\n",
       "        window._bokeh_is_loading--;\n",
       "        if (window._bokeh_is_loading === 0) {\n",
       "          console.log(\"Bokeh: all BokehJS libraries loaded\");\n",
       "          run_callbacks()\n",
       "        }\n",
       "      };\n",
       "      s.onerror = function() {\n",
       "        console.warn(\"failed to load library \" + url);\n",
       "      };\n",
       "      console.log(\"Bokeh: injecting script tag for BokehJS library: \", url);\n",
       "      document.getElementsByTagName(\"head\")[0].appendChild(s);\n",
       "    }\n",
       "  };var element = document.getElementById(\"c2ab9fe5-64fd-4b83-b7a7-f0877cc12740\");\n",
       "  if (element == null) {\n",
       "    console.log(\"Bokeh: ERROR: autoload.js configured with elementid 'c2ab9fe5-64fd-4b83-b7a7-f0877cc12740' but no matching script tag was found. \")\n",
       "    return false;\n",
       "  }\n",
       "\n",
       "  var js_urls = [\"https://cdn.pydata.org/bokeh/release/bokeh-0.12.6.min.js\", \"https://cdn.pydata.org/bokeh/release/bokeh-widgets-0.12.6.min.js\"];\n",
       "\n",
       "  var inline_js = [\n",
       "    function(Bokeh) {\n",
       "      Bokeh.set_log_level(\"info\");\n",
       "    },\n",
       "    \n",
       "    function(Bokeh) {\n",
       "      \n",
       "    },\n",
       "    \n",
       "    function(Bokeh) {\n",
       "      \n",
       "      document.getElementById(\"c2ab9fe5-64fd-4b83-b7a7-f0877cc12740\").textContent = \"BokehJS is loading...\";\n",
       "    },\n",
       "    function(Bokeh) {\n",
       "      console.log(\"Bokeh: injecting CSS: https://cdn.pydata.org/bokeh/release/bokeh-0.12.6.min.css\");\n",
       "      Bokeh.embed.inject_css(\"https://cdn.pydata.org/bokeh/release/bokeh-0.12.6.min.css\");\n",
       "      console.log(\"Bokeh: injecting CSS: https://cdn.pydata.org/bokeh/release/bokeh-widgets-0.12.6.min.css\");\n",
       "      Bokeh.embed.inject_css(\"https://cdn.pydata.org/bokeh/release/bokeh-widgets-0.12.6.min.css\");\n",
       "    }\n",
       "  ];\n",
       "\n",
       "  function run_inline_js() {\n",
       "    \n",
       "    if ((window.Bokeh !== undefined) || (force === true)) {\n",
       "      for (var i = 0; i < inline_js.length; i++) {\n",
       "        inline_js[i](window.Bokeh);\n",
       "      }if (force === true) {\n",
       "        display_loaded();\n",
       "      }} else if (Date.now() < window._bokeh_timeout) {\n",
       "      setTimeout(run_inline_js, 100);\n",
       "    } else if (!window._bokeh_failed_load) {\n",
       "      console.log(\"Bokeh: BokehJS failed to load within specified timeout.\");\n",
       "      window._bokeh_failed_load = true;\n",
       "    } else if (force !== true) {\n",
       "      var cell = $(document.getElementById(\"c2ab9fe5-64fd-4b83-b7a7-f0877cc12740\")).parents('.cell').data().cell;\n",
       "      cell.output_area.append_execute_result(NB_LOAD_WARNING)\n",
       "    }\n",
       "\n",
       "  }\n",
       "\n",
       "  if (window._bokeh_is_loading === 0) {\n",
       "    console.log(\"Bokeh: BokehJS loaded, going straight to plotting\");\n",
       "    run_inline_js();\n",
       "  } else {\n",
       "    load_libs(js_urls, function() {\n",
       "      console.log(\"Bokeh: BokehJS plotting callback run at\", now());\n",
       "      run_inline_js();\n",
       "    });\n",
       "  }\n",
       "}(this));"
      ]
     },
     "metadata": {},
     "output_type": "display_data"
    }
   ],
   "source": [
    "# import libraries\n",
    "import os\n",
    "import sys\n",
    "import pandas as pd\n",
    "import numpy as np\n",
    "import matplotlib.pyplot as plt\n",
    "import seaborn as sns\n",
    "from IPython.display import display\n",
    "%pylab inline\n",
    "\n",
    "from bokeh.io import output_notebook, show\n",
    "from bkcharts import Donut\n",
    "output_notebook()"
   ]
  },
  {
   "cell_type": "markdown",
   "metadata": {},
   "source": [
    "# Intro to Data Analysis\n",
    "## Final Project: Investigate Data\n",
    "\n",
    "In this project I will:\n",
    "1. Choose a dataset (titanic, baseball)\n",
    "2. Analyse the data\n",
    "3. Make questions based on the analysis\n",
    "4. Report found answers"
   ]
  },
  {
   "cell_type": "code",
   "execution_count": 2,
   "metadata": {
    "collapsed": true
   },
   "outputs": [],
   "source": [
    "# declare helper functions and load dataset\n",
    "\n",
    "def load_files(data_path, filenames):\n",
    "    \"\"\"Load data files\n",
    "    \n",
    "    Loads every csv file from the data directory.\n",
    "    \n",
    "    Args:\n",
    "        data_path(string): Path to files\n",
    "        filenames(list): List of files to load from the data_path\n",
    "        \n",
    "    Returns:\n",
    "        dict: A dictionary of table names as keys and DataFrame objects as values\n",
    "    \"\"\"\n",
    "    dfs = {}\n",
    "    for f in filenames:\n",
    "        parts = f.split('.')\n",
    "        if parts[1] != 'csv':\n",
    "            continue\n",
    "        dfname = parts[0]\n",
    "        absfilename = data_path + '/' + f\n",
    "        dfs[dfname] = pd.read_csv(absfilename)\n",
    "    return dfs\n",
    "\n",
    "def describe_df(df):\n",
    "    \"\"\"Describe a DataFrame\n",
    "    \n",
    "    Prints DataFrame information, the result of describe() method, and a blank line underneath.\n",
    "    \n",
    "    Args:\n",
    "        df(DataFrame): The DataFrame to be described\n",
    "    \"\"\"\n",
    "    print(df)\n",
    "    display(dataframes[df].describe())\n",
    "    print('')\n",
    "\n",
    "def describe_dataframes(dataframes):\n",
    "    \"\"\"Describe a list of DataFrame objects\n",
    "    \n",
    "    Args:\n",
    "        dataframes(list): A list of DataFrame objects\n",
    "    \"\"\"\n",
    "    for df in dataframes:\n",
    "        describe_df(df)\n",
    "        \n",
    "def display_1d_array(array, col_name='Data'):\n",
    "    \"\"\"Display 1D Numpy array nicely\n",
    "    \n",
    "    Args:\n",
    "        array (np.array): 1D Numpy array\n",
    "        col_name (string, optional): Name for column to display\n",
    "    \"\"\"\n",
    "    display(pd.DataFrame(array, columns=[col_name], index=[i+1 for i in range(len(array))]))"
   ]
  },
  {
   "cell_type": "code",
   "execution_count": 3,
   "metadata": {
    "collapsed": true
   },
   "outputs": [],
   "source": [
    "# declare visualization functions\n",
    "\n",
    "def distribution(data, figsize=(7, 5), color='c', xlabel='X', ylabel='Y', title=None):\n",
    "    \"\"\"Draw a Seaborn Distribution plot\n",
    "    \n",
    "    Draws a distribution plot setting proper size and title\n",
    "    \n",
    "    Args:\n",
    "        data(DataFrame): Data to be used to draw\n",
    "        color(string, optional): Single character that represents a colour setting. Defaults to c\n",
    "        xlabel(string, optional): Label for X axis. Defaults to X\n",
    "        ylabel(string, optional): Label for Y axis. Defaults to Y\n",
    "        title(string, optional): Title to be displayed on top of the plot. Defaults to None\n",
    "    \n",
    "    .. _Seaborn Documentation:\n",
    "        https://seaborn.pydata.org/generated/seaborn.distplot.html\n",
    "    \n",
    "    \"\"\"\n",
    "    f, axes = plt.subplots(1, 1, figsize=(7, 5), sharex=True)\n",
    "    sns.despine(left=True)\n",
    "    sns.distplot(data, color=color, kde_kws={\"shade\": True})\n",
    "    axes.set(xlabel=xlabel, ylabel=ylabel)\n",
    "    plt.setp(axes, yticks=[])\n",
    "    plt.tight_layout()\n",
    "    if title is not None:\n",
    "        f.suptitle(title)\n",
    "\n",
    "\n",
    "def plot_correlation(x, y, xlabel, ylabel, legend=None, title=None):\n",
    "    \"\"\"Draw a Seaborn Regplot plot\n",
    "    \n",
    "    Plot data and a linear regression model fit.\n",
    "    \n",
    "    Args:\n",
    "        x(array): X data in Numpy array format\n",
    "        y(array): Y data in Numpy array format\n",
    "        xlabel(string): Label for X axis\n",
    "        ylabel(string): Label for Y axis\n",
    "        legend(string, optional): Title to be displayed inside the plot. Defaults to None\n",
    "        title(string, optional): Title to be displayed on top of the plot. Defaults to None\n",
    "        \n",
    "    .. _Seaborn Documentation:\n",
    "        https://seaborn.pydata.org/generated/seaborn.regplot.html\n",
    "    \"\"\"\n",
    "    if title is not None:\n",
    "        fig = plt.figure()\n",
    "        fig.suptitle(title)\n",
    "    ax = sns.regplot(x=\"x\", y=\"y\", data=pd.DataFrame({'x': x, 'y': y}), label=legend, x_jitter=.2)\n",
    "    ax.set(xlabel=xlabel, ylabel=ylabel)\n",
    "    if legend is not None:\n",
    "        ax.legend(loc=\"best\")\n",
    "\n",
    "\n",
    "def plot_correlation2(data, x_var, y_var, title=None):\n",
    "    \"\"\"Draw a Seaborn Joinplot plot\n",
    "    \n",
    "    Draw a plot of two variables with bivariate and univariate graphs.\n",
    "    \n",
    "    Args:\n",
    "        data(DataFrame): Data to draw the plot\n",
    "        x_var(string): Name of variable for X axis\n",
    "        y_var(string): Name of variable for Y axis\n",
    "        title(string, optional): Title to be displayed on top of the plot. Defaults to None\n",
    "\n",
    "    .. _Seaborn Documentation:\n",
    "        http://seaborn.pydata.org/generated/seaborn.jointplot.html\n",
    "    \"\"\"\n",
    "    sns.set(style=\"darkgrid\", color_codes=True)\n",
    "    g = sns.jointplot(x_var, y_var, data=data, kind=\"reg\",\n",
    "                      xlim=(0, data[x_var].max()), ylim=(0, data[y_var].max()), color=\"r\", size=7)\n",
    "    if title is not None:\n",
    "        g.fig.suptitle(title)"
   ]
  },
  {
   "cell_type": "code",
   "execution_count": 4,
   "metadata": {
    "collapsed": true
   },
   "outputs": [],
   "source": [
    "# load data\n",
    "data_path = 'data/baseballdatabank-2017.1/core'\n",
    "filenames = os.listdir(data_path)\n",
    "dataframes = load_files(data_path, filenames)"
   ]
  },
  {
   "cell_type": "markdown",
   "metadata": {},
   "source": [
    "## Analyse data\n"
   ]
  },
  {
   "cell_type": "markdown",
   "metadata": {},
   "source": [
    "### Main Table: Master"
   ]
  },
  {
   "cell_type": "code",
   "execution_count": 5,
   "metadata": {
    "scrolled": false
   },
   "outputs": [
    {
     "data": {
      "text/html": [
       "<div>\n",
       "<style>\n",
       "    .dataframe thead tr:only-child th {\n",
       "        text-align: right;\n",
       "    }\n",
       "\n",
       "    .dataframe thead th {\n",
       "        text-align: left;\n",
       "    }\n",
       "\n",
       "    .dataframe tbody tr th {\n",
       "        vertical-align: top;\n",
       "    }\n",
       "</style>\n",
       "<table border=\"1\" class=\"dataframe\">\n",
       "  <thead>\n",
       "    <tr style=\"text-align: right;\">\n",
       "      <th></th>\n",
       "      <th>playerID</th>\n",
       "      <th>birthYear</th>\n",
       "      <th>birthMonth</th>\n",
       "      <th>birthDay</th>\n",
       "      <th>birthCountry</th>\n",
       "      <th>birthState</th>\n",
       "      <th>birthCity</th>\n",
       "      <th>deathYear</th>\n",
       "      <th>deathMonth</th>\n",
       "      <th>deathDay</th>\n",
       "      <th>...</th>\n",
       "      <th>nameLast</th>\n",
       "      <th>nameGiven</th>\n",
       "      <th>weight</th>\n",
       "      <th>height</th>\n",
       "      <th>bats</th>\n",
       "      <th>throws</th>\n",
       "      <th>debut</th>\n",
       "      <th>finalGame</th>\n",
       "      <th>retroID</th>\n",
       "      <th>bbrefID</th>\n",
       "    </tr>\n",
       "  </thead>\n",
       "  <tbody>\n",
       "    <tr>\n",
       "      <th>0</th>\n",
       "      <td>aardsda01</td>\n",
       "      <td>1981.0</td>\n",
       "      <td>12.0</td>\n",
       "      <td>27.0</td>\n",
       "      <td>USA</td>\n",
       "      <td>CO</td>\n",
       "      <td>Denver</td>\n",
       "      <td>NaN</td>\n",
       "      <td>NaN</td>\n",
       "      <td>NaN</td>\n",
       "      <td>...</td>\n",
       "      <td>Aardsma</td>\n",
       "      <td>David Allan</td>\n",
       "      <td>215.0</td>\n",
       "      <td>75.0</td>\n",
       "      <td>R</td>\n",
       "      <td>R</td>\n",
       "      <td>2004-04-06</td>\n",
       "      <td>2015-08-23</td>\n",
       "      <td>aardd001</td>\n",
       "      <td>aardsda01</td>\n",
       "    </tr>\n",
       "    <tr>\n",
       "      <th>1</th>\n",
       "      <td>aaronha01</td>\n",
       "      <td>1934.0</td>\n",
       "      <td>2.0</td>\n",
       "      <td>5.0</td>\n",
       "      <td>USA</td>\n",
       "      <td>AL</td>\n",
       "      <td>Mobile</td>\n",
       "      <td>NaN</td>\n",
       "      <td>NaN</td>\n",
       "      <td>NaN</td>\n",
       "      <td>...</td>\n",
       "      <td>Aaron</td>\n",
       "      <td>Henry Louis</td>\n",
       "      <td>180.0</td>\n",
       "      <td>72.0</td>\n",
       "      <td>R</td>\n",
       "      <td>R</td>\n",
       "      <td>1954-04-13</td>\n",
       "      <td>1976-10-03</td>\n",
       "      <td>aaroh101</td>\n",
       "      <td>aaronha01</td>\n",
       "    </tr>\n",
       "    <tr>\n",
       "      <th>2</th>\n",
       "      <td>aaronto01</td>\n",
       "      <td>1939.0</td>\n",
       "      <td>8.0</td>\n",
       "      <td>5.0</td>\n",
       "      <td>USA</td>\n",
       "      <td>AL</td>\n",
       "      <td>Mobile</td>\n",
       "      <td>1984.0</td>\n",
       "      <td>8.0</td>\n",
       "      <td>16.0</td>\n",
       "      <td>...</td>\n",
       "      <td>Aaron</td>\n",
       "      <td>Tommie Lee</td>\n",
       "      <td>190.0</td>\n",
       "      <td>75.0</td>\n",
       "      <td>R</td>\n",
       "      <td>R</td>\n",
       "      <td>1962-04-10</td>\n",
       "      <td>1971-09-26</td>\n",
       "      <td>aarot101</td>\n",
       "      <td>aaronto01</td>\n",
       "    </tr>\n",
       "    <tr>\n",
       "      <th>3</th>\n",
       "      <td>aasedo01</td>\n",
       "      <td>1954.0</td>\n",
       "      <td>9.0</td>\n",
       "      <td>8.0</td>\n",
       "      <td>USA</td>\n",
       "      <td>CA</td>\n",
       "      <td>Orange</td>\n",
       "      <td>NaN</td>\n",
       "      <td>NaN</td>\n",
       "      <td>NaN</td>\n",
       "      <td>...</td>\n",
       "      <td>Aase</td>\n",
       "      <td>Donald William</td>\n",
       "      <td>190.0</td>\n",
       "      <td>75.0</td>\n",
       "      <td>R</td>\n",
       "      <td>R</td>\n",
       "      <td>1977-07-26</td>\n",
       "      <td>1990-10-03</td>\n",
       "      <td>aased001</td>\n",
       "      <td>aasedo01</td>\n",
       "    </tr>\n",
       "    <tr>\n",
       "      <th>4</th>\n",
       "      <td>abadan01</td>\n",
       "      <td>1972.0</td>\n",
       "      <td>8.0</td>\n",
       "      <td>25.0</td>\n",
       "      <td>USA</td>\n",
       "      <td>FL</td>\n",
       "      <td>Palm Beach</td>\n",
       "      <td>NaN</td>\n",
       "      <td>NaN</td>\n",
       "      <td>NaN</td>\n",
       "      <td>...</td>\n",
       "      <td>Abad</td>\n",
       "      <td>Fausto Andres</td>\n",
       "      <td>184.0</td>\n",
       "      <td>73.0</td>\n",
       "      <td>L</td>\n",
       "      <td>L</td>\n",
       "      <td>2001-09-10</td>\n",
       "      <td>2006-04-13</td>\n",
       "      <td>abada001</td>\n",
       "      <td>abadan01</td>\n",
       "    </tr>\n",
       "  </tbody>\n",
       "</table>\n",
       "<p>5 rows × 24 columns</p>\n",
       "</div>"
      ],
      "text/plain": [
       "    playerID  birthYear  birthMonth  birthDay birthCountry birthState  \\\n",
       "0  aardsda01     1981.0        12.0      27.0          USA         CO   \n",
       "1  aaronha01     1934.0         2.0       5.0          USA         AL   \n",
       "2  aaronto01     1939.0         8.0       5.0          USA         AL   \n",
       "3   aasedo01     1954.0         9.0       8.0          USA         CA   \n",
       "4   abadan01     1972.0         8.0      25.0          USA         FL   \n",
       "\n",
       "    birthCity  deathYear  deathMonth  deathDay    ...     nameLast  \\\n",
       "0      Denver        NaN         NaN       NaN    ...      Aardsma   \n",
       "1      Mobile        NaN         NaN       NaN    ...        Aaron   \n",
       "2      Mobile     1984.0         8.0      16.0    ...        Aaron   \n",
       "3      Orange        NaN         NaN       NaN    ...         Aase   \n",
       "4  Palm Beach        NaN         NaN       NaN    ...         Abad   \n",
       "\n",
       "        nameGiven weight height bats throws       debut   finalGame   retroID  \\\n",
       "0     David Allan  215.0   75.0    R      R  2004-04-06  2015-08-23  aardd001   \n",
       "1     Henry Louis  180.0   72.0    R      R  1954-04-13  1976-10-03  aaroh101   \n",
       "2      Tommie Lee  190.0   75.0    R      R  1962-04-10  1971-09-26  aarot101   \n",
       "3  Donald William  190.0   75.0    R      R  1977-07-26  1990-10-03  aased001   \n",
       "4   Fausto Andres  184.0   73.0    L      L  2001-09-10  2006-04-13  abada001   \n",
       "\n",
       "     bbrefID  \n",
       "0  aardsda01  \n",
       "1  aaronha01  \n",
       "2  aaronto01  \n",
       "3   aasedo01  \n",
       "4   abadan01  \n",
       "\n",
       "[5 rows x 24 columns]"
      ]
     },
     "execution_count": 5,
     "metadata": {},
     "output_type": "execute_result"
    }
   ],
   "source": [
    "dataframes['Master'].head()"
   ]
  },
  {
   "cell_type": "markdown",
   "metadata": {},
   "source": [
    "## Missing Values"
   ]
  },
  {
   "cell_type": "code",
   "execution_count": 6,
   "metadata": {},
   "outputs": [
    {
     "data": {
      "text/html": [
       "\n",
       "\n",
       "    <div class=\"bk-root\">\n",
       "        <div class=\"bk-plotdiv\" id=\"451c6840-c117-41ad-b17e-5f88f52637d3\"></div>\n",
       "    </div>\n",
       "<script type=\"text/javascript\">\n",
       "  \n",
       "  (function(global) {\n",
       "    function now() {\n",
       "      return new Date();\n",
       "    }\n",
       "  \n",
       "    var force = false;\n",
       "  \n",
       "    if (typeof (window._bokeh_onload_callbacks) === \"undefined\" || force === true) {\n",
       "      window._bokeh_onload_callbacks = [];\n",
       "      window._bokeh_is_loading = undefined;\n",
       "    }\n",
       "  \n",
       "  \n",
       "    \n",
       "    if (typeof (window._bokeh_timeout) === \"undefined\" || force === true) {\n",
       "      window._bokeh_timeout = Date.now() + 0;\n",
       "      window._bokeh_failed_load = false;\n",
       "    }\n",
       "  \n",
       "    var NB_LOAD_WARNING = {'data': {'text/html':\n",
       "       \"<div style='background-color: #fdd'>\\n\"+\n",
       "       \"<p>\\n\"+\n",
       "       \"BokehJS does not appear to have successfully loaded. If loading BokehJS from CDN, this \\n\"+\n",
       "       \"may be due to a slow or bad network connection. Possible fixes:\\n\"+\n",
       "       \"</p>\\n\"+\n",
       "       \"<ul>\\n\"+\n",
       "       \"<li>re-rerun `output_notebook()` to attempt to load from CDN again, or</li>\\n\"+\n",
       "       \"<li>use INLINE resources instead, as so:</li>\\n\"+\n",
       "       \"</ul>\\n\"+\n",
       "       \"<code>\\n\"+\n",
       "       \"from bokeh.resources import INLINE\\n\"+\n",
       "       \"output_notebook(resources=INLINE)\\n\"+\n",
       "       \"</code>\\n\"+\n",
       "       \"</div>\"}};\n",
       "  \n",
       "    function display_loaded() {\n",
       "      if (window.Bokeh !== undefined) {\n",
       "        var el = document.getElementById(\"451c6840-c117-41ad-b17e-5f88f52637d3\");\n",
       "        el.textContent = \"BokehJS \" + Bokeh.version + \" successfully loaded.\";\n",
       "      } else if (Date.now() < window._bokeh_timeout) {\n",
       "        setTimeout(display_loaded, 100)\n",
       "      }\n",
       "    }\n",
       "  \n",
       "    function run_callbacks() {\n",
       "      try {\n",
       "        window._bokeh_onload_callbacks.forEach(function(callback) { callback() });\n",
       "      }\n",
       "      finally {\n",
       "        delete window._bokeh_onload_callbacks\n",
       "      }\n",
       "      console.info(\"Bokeh: all callbacks have finished\");\n",
       "    }\n",
       "  \n",
       "    function load_libs(js_urls, callback) {\n",
       "      window._bokeh_onload_callbacks.push(callback);\n",
       "      if (window._bokeh_is_loading > 0) {\n",
       "        console.log(\"Bokeh: BokehJS is being loaded, scheduling callback at\", now());\n",
       "        return null;\n",
       "      }\n",
       "      if (js_urls == null || js_urls.length === 0) {\n",
       "        run_callbacks();\n",
       "        return null;\n",
       "      }\n",
       "      console.log(\"Bokeh: BokehJS not loaded, scheduling load and callback at\", now());\n",
       "      window._bokeh_is_loading = js_urls.length;\n",
       "      for (var i = 0; i < js_urls.length; i++) {\n",
       "        var url = js_urls[i];\n",
       "        var s = document.createElement('script');\n",
       "        s.src = url;\n",
       "        s.async = false;\n",
       "        s.onreadystatechange = s.onload = function() {\n",
       "          window._bokeh_is_loading--;\n",
       "          if (window._bokeh_is_loading === 0) {\n",
       "            console.log(\"Bokeh: all BokehJS libraries loaded\");\n",
       "            run_callbacks()\n",
       "          }\n",
       "        };\n",
       "        s.onerror = function() {\n",
       "          console.warn(\"failed to load library \" + url);\n",
       "        };\n",
       "        console.log(\"Bokeh: injecting script tag for BokehJS library: \", url);\n",
       "        document.getElementsByTagName(\"head\")[0].appendChild(s);\n",
       "      }\n",
       "    };var element = document.getElementById(\"451c6840-c117-41ad-b17e-5f88f52637d3\");\n",
       "    if (element == null) {\n",
       "      console.log(\"Bokeh: ERROR: autoload.js configured with elementid '451c6840-c117-41ad-b17e-5f88f52637d3' but no matching script tag was found. \")\n",
       "      return false;\n",
       "    }\n",
       "  \n",
       "    var js_urls = [];\n",
       "  \n",
       "    var inline_js = [\n",
       "      function(Bokeh) {\n",
       "        (function() {\n",
       "          var fn = function() {\n",
       "            var docs_json = {\"a1e45723-88b7-4e33-8b84-68f43ebb8830\":{\"roots\":{\"references\":[{\"attributes\":{\"bottom_units\":\"screen\",\"fill_alpha\":{\"value\":0.5},\"fill_color\":{\"value\":\"lightgrey\"},\"left_units\":\"screen\",\"level\":\"overlay\",\"line_alpha\":{\"value\":1.0},\"line_color\":{\"value\":\"black\"},\"line_dash\":[4,4],\"line_width\":{\"value\":2},\"plot\":null,\"render_mode\":\"css\",\"right_units\":\"screen\",\"top_units\":\"screen\"},\"id\":\"6d69e492-960a-4a61-a503-c1af80e4634b\",\"type\":\"BoxAnnotation\"},{\"attributes\":{\"end_angle\":{\"field\":\"end\",\"units\":\"rad\"},\"fill_alpha\":{\"value\":0.8},\"fill_color\":{\"field\":\"color\"},\"inner_radius\":{\"field\":\"inners\",\"units\":\"data\"},\"line_color\":{\"value\":\"White\"},\"outer_radius\":{\"field\":\"outers\",\"units\":\"data\"},\"start_angle\":{\"field\":\"start\",\"units\":\"rad\"},\"x\":{\"value\":0},\"y\":{\"value\":0}},\"id\":\"1fd47773-6d59-45c9-94fc-71625424fda8\",\"type\":\"AnnularWedge\"},{\"attributes\":{\"overlay\":{\"id\":\"6d69e492-960a-4a61-a503-c1af80e4634b\",\"type\":\"BoxAnnotation\"},\"plot\":{\"id\":\"a12d8a9a-b08e-40cc-b895-fac1c8b41ccf\",\"subtype\":\"Chart\",\"type\":\"Plot\"}},\"id\":\"25a48e82-51e4-44fa-8b1e-fc89445affed\",\"type\":\"BoxZoomTool\"},{\"attributes\":{\"plot\":null,\"text\":null},\"id\":\"83eb1bff-bf17-487e-b866-d75de29bc439\",\"type\":\"Title\"},{\"attributes\":{\"callback\":null,\"end\":1.6500000000000001,\"start\":-1.6500000000000001},\"id\":\"a333c46b-16bd-444e-b60e-b762014cae2b\",\"type\":\"Range1d\"},{\"attributes\":{\"callback\":null,\"end\":1.6500000000000001,\"start\":-1.6500000000000001},\"id\":\"543370ec-c17d-4b96-91e7-8acd3bc810cc\",\"type\":\"Range1d\"},{\"attributes\":{\"plot\":{\"id\":\"a12d8a9a-b08e-40cc-b895-fac1c8b41ccf\",\"subtype\":\"Chart\",\"type\":\"Plot\"}},\"id\":\"bdf4e5bc-fe81-4939-aa79-71846b58ed54\",\"type\":\"WheelZoomTool\"},{\"attributes\":{},\"id\":\"fb387ad9-e3cd-4094-ac20-79e9b725c0ee\",\"type\":\"BasicTicker\"},{\"attributes\":{\"plot\":{\"id\":\"a12d8a9a-b08e-40cc-b895-fac1c8b41ccf\",\"subtype\":\"Chart\",\"type\":\"Plot\"}},\"id\":\"95f083d7-2c2d-47bf-aed8-28a7a957ef18\",\"type\":\"SaveTool\"},{\"attributes\":{\"data_source\":{\"id\":\"c4c934e4-c4c7-445a-ab39-5b1be08f82b4\",\"type\":\"ColumnDataSource\"},\"glyph\":{\"id\":\"1fd47773-6d59-45c9-94fc-71625424fda8\",\"type\":\"AnnularWedge\"},\"hover_glyph\":null,\"muted_glyph\":null},\"id\":\"d119dd01-3782-4ce2-a699-59e4113d16b2\",\"type\":\"GlyphRenderer\"},{\"attributes\":{\"callback\":null,\"column_names\":[\"text\",\"x\",\"y\",\"text_angle\"],\"data\":{\"text\":[\"Rows with missing values\",\"Rows without missing values\"],\"text_angle\":{\"__ndarray__\":\"AAAAAAAAAAAAAAAAAAAAAA==\",\"dtype\":\"float64\",\"shape\":[2]},\"x\":[-0.30960791042448393,0.30960791042448355],\"y\":[1.081558108380028,-1.0815581083800283]}},\"id\":\"bbfa5323-d3b7-4836-8284-c65820595d1a\",\"type\":\"ColumnDataSource\"},{\"attributes\":{\"plot\":{\"id\":\"a12d8a9a-b08e-40cc-b895-fac1c8b41ccf\",\"subtype\":\"Chart\",\"type\":\"Plot\"}},\"id\":\"05b4424e-82b6-4783-99c4-d9e7e4a40d41\",\"type\":\"PanTool\"},{\"attributes\":{\"data_source\":{\"id\":\"bbfa5323-d3b7-4836-8284-c65820595d1a\",\"type\":\"ColumnDataSource\"},\"glyph\":{\"id\":\"86ad3c95-5a41-4c38-9ada-38c9013fa761\",\"type\":\"Text\"},\"hover_glyph\":null,\"muted_glyph\":null},\"id\":\"6ca51c84-61de-47e4-ac62-a6f1c1ddea54\",\"type\":\"GlyphRenderer\"},{\"attributes\":{\"plot\":{\"id\":\"a12d8a9a-b08e-40cc-b895-fac1c8b41ccf\",\"subtype\":\"Chart\",\"type\":\"Plot\"}},\"id\":\"04d3e0ca-6edd-495e-83ca-7c0d8460029f\",\"type\":\"ResetTool\"},{\"attributes\":{\"plot\":{\"id\":\"a12d8a9a-b08e-40cc-b895-fac1c8b41ccf\",\"subtype\":\"Chart\",\"type\":\"Plot\"}},\"id\":\"f3303f8d-0e11-4c5e-a81a-38b707c4dd70\",\"type\":\"HelpTool\"},{\"attributes\":{\"callback\":null,\"column_names\":[\"end\",\"level\",\"start\",\"values\",\"inners\",\"outers\",\"centers\",\"color\",\"index\"],\"data\":{\"centers\":{\"__ndarray__\":\"AAAAAAAA8j8AAAAAAADyPw==\",\"dtype\":\"float64\",\"shape\":[2]},\"color\":[\"#f22c40\",\"#5ab738\"],\"end\":{\"__ndarray__\":\"WQcWm/eXDUAYLURU+yEZQA==\",\"dtype\":\"float64\",\"shape\":[2]},\"index\":[\"Rows with missing values\",\"Rows without missing values\"],\"inners\":{\"__ndarray__\":\"AAAAAAAAAAAAAAAAAAAAAA==\",\"dtype\":\"float64\",\"shape\":[2]},\"level\":{\"__ndarray__\":\"AAAAAAAAAAAAAAAAAAAAAA==\",\"dtype\":\"float64\",\"shape\":[2]},\"outers\":{\"__ndarray__\":\"AAAAAAAA+D8AAAAAAAD4Pw==\",\"dtype\":\"float64\",\"shape\":[2]},\"start\":{\"__ndarray__\":\"AAAAAAAAAABZBxab95cNQA==\",\"dtype\":\"float64\",\"shape\":[2]},\"values\":[11248,7857]}},\"id\":\"c4c934e4-c4c7-445a-ab39-5b1be08f82b4\",\"type\":\"ColumnDataSource\"},{\"attributes\":{\"axis_label\":null,\"formatter\":{\"id\":\"e7cd33f7-5556-40e7-9a1c-bdd0175092fc\",\"type\":\"BasicTickFormatter\"},\"plot\":{\"id\":\"a12d8a9a-b08e-40cc-b895-fac1c8b41ccf\",\"subtype\":\"Chart\",\"type\":\"Plot\"},\"ticker\":{\"id\":\"c57e8613-b589-46ad-96b6-7865aac20019\",\"type\":\"BasicTicker\"},\"visible\":false},\"id\":\"f0284a5b-012b-4388-818c-483185ad9687\",\"type\":\"LinearAxis\"},{\"attributes\":{},\"id\":\"14c616b1-c667-40eb-8121-b11f9142b5f5\",\"type\":\"ToolEvents\"},{\"attributes\":{\"location\":\"top_left\",\"plot\":{\"id\":\"a12d8a9a-b08e-40cc-b895-fac1c8b41ccf\",\"subtype\":\"Chart\",\"type\":\"Plot\"}},\"id\":\"5f317747-7b4b-4fe5-9b92-e35d6c8c06a8\",\"type\":\"Legend\"},{\"attributes\":{\"angle\":{\"field\":\"text_angle\",\"units\":\"rad\"},\"text_align\":\"center\",\"text_baseline\":\"middle\",\"text_font_size\":{\"value\":\"10pt\"},\"x\":{\"field\":\"x\"},\"y\":{\"field\":\"y\"}},\"id\":\"86ad3c95-5a41-4c38-9ada-38c9013fa761\",\"type\":\"Text\"},{\"attributes\":{\"callback\":null,\"plot\":{\"id\":\"a12d8a9a-b08e-40cc-b895-fac1c8b41ccf\",\"subtype\":\"Chart\",\"type\":\"Plot\"},\"tooltips\":[[\"Value\",\"@values\"]]},\"id\":\"d698d245-ced0-4349-b0c3-1120be3ce72c\",\"type\":\"HoverTool\"},{\"attributes\":{\"axis_label\":null,\"formatter\":{\"id\":\"b79f968d-8e19-4101-9534-ac89f286f0e1\",\"type\":\"BasicTickFormatter\"},\"plot\":{\"id\":\"a12d8a9a-b08e-40cc-b895-fac1c8b41ccf\",\"subtype\":\"Chart\",\"type\":\"Plot\"},\"ticker\":{\"id\":\"fb387ad9-e3cd-4094-ac20-79e9b725c0ee\",\"type\":\"BasicTicker\"},\"visible\":false},\"id\":\"29a16718-20dd-4b46-93d5-a21a65f90124\",\"type\":\"LinearAxis\"},{\"attributes\":{},\"id\":\"b79f968d-8e19-4101-9534-ac89f286f0e1\",\"type\":\"BasicTickFormatter\"},{\"attributes\":{},\"id\":\"e7cd33f7-5556-40e7-9a1c-bdd0175092fc\",\"type\":\"BasicTickFormatter\"},{\"attributes\":{},\"id\":\"14e2a912-4135-41ae-acb7-43b8d670c841\",\"type\":\"LinearScale\"},{\"attributes\":{\"below\":[{\"id\":\"29a16718-20dd-4b46-93d5-a21a65f90124\",\"type\":\"LinearAxis\"}],\"css_classes\":null,\"left\":[{\"id\":\"f0284a5b-012b-4388-818c-483185ad9687\",\"type\":\"LinearAxis\"}],\"plot_height\":400,\"plot_width\":400,\"renderers\":[{\"id\":\"6d69e492-960a-4a61-a503-c1af80e4634b\",\"type\":\"BoxAnnotation\"},{\"id\":\"d119dd01-3782-4ce2-a699-59e4113d16b2\",\"type\":\"GlyphRenderer\"},{\"id\":\"6ca51c84-61de-47e4-ac62-a6f1c1ddea54\",\"type\":\"GlyphRenderer\"},{\"id\":\"5f317747-7b4b-4fe5-9b92-e35d6c8c06a8\",\"type\":\"Legend\"},{\"id\":\"29a16718-20dd-4b46-93d5-a21a65f90124\",\"type\":\"LinearAxis\"},{\"id\":\"f0284a5b-012b-4388-818c-483185ad9687\",\"type\":\"LinearAxis\"}],\"title\":{\"id\":\"83eb1bff-bf17-487e-b866-d75de29bc439\",\"type\":\"Title\"},\"tool_events\":{\"id\":\"14c616b1-c667-40eb-8121-b11f9142b5f5\",\"type\":\"ToolEvents\"},\"toolbar\":{\"id\":\"4d76d385-8806-4b34-b12b-acc0153aa809\",\"type\":\"Toolbar\"},\"x_range\":{\"id\":\"a333c46b-16bd-444e-b60e-b762014cae2b\",\"type\":\"Range1d\"},\"x_scale\":{\"id\":\"14e2a912-4135-41ae-acb7-43b8d670c841\",\"type\":\"LinearScale\"},\"y_range\":{\"id\":\"543370ec-c17d-4b96-91e7-8acd3bc810cc\",\"type\":\"Range1d\"},\"y_scale\":{\"id\":\"7436c72b-cb57-4fbe-b310-4a48b3e18417\",\"type\":\"LinearScale\"}},\"id\":\"a12d8a9a-b08e-40cc-b895-fac1c8b41ccf\",\"subtype\":\"Chart\",\"type\":\"Plot\"},{\"attributes\":{\"active_drag\":\"auto\",\"active_inspect\":\"auto\",\"active_scroll\":\"auto\",\"active_tap\":\"auto\",\"tools\":[{\"id\":\"05b4424e-82b6-4783-99c4-d9e7e4a40d41\",\"type\":\"PanTool\"},{\"id\":\"bdf4e5bc-fe81-4939-aa79-71846b58ed54\",\"type\":\"WheelZoomTool\"},{\"id\":\"25a48e82-51e4-44fa-8b1e-fc89445affed\",\"type\":\"BoxZoomTool\"},{\"id\":\"95f083d7-2c2d-47bf-aed8-28a7a957ef18\",\"type\":\"SaveTool\"},{\"id\":\"04d3e0ca-6edd-495e-83ca-7c0d8460029f\",\"type\":\"ResetTool\"},{\"id\":\"f3303f8d-0e11-4c5e-a81a-38b707c4dd70\",\"type\":\"HelpTool\"},{\"id\":\"d698d245-ced0-4349-b0c3-1120be3ce72c\",\"type\":\"HoverTool\"}]},\"id\":\"4d76d385-8806-4b34-b12b-acc0153aa809\",\"type\":\"Toolbar\"},{\"attributes\":{},\"id\":\"7436c72b-cb57-4fbe-b310-4a48b3e18417\",\"type\":\"LinearScale\"},{\"attributes\":{},\"id\":\"c57e8613-b589-46ad-96b6-7865aac20019\",\"type\":\"BasicTicker\"}],\"root_ids\":[\"a12d8a9a-b08e-40cc-b895-fac1c8b41ccf\"]},\"title\":\"Bokeh Application\",\"version\":\"0.12.6\"}};\n",
       "            var render_items = [{\"docid\":\"a1e45723-88b7-4e33-8b84-68f43ebb8830\",\"elementid\":\"451c6840-c117-41ad-b17e-5f88f52637d3\",\"modelid\":\"a12d8a9a-b08e-40cc-b895-fac1c8b41ccf\"}];\n",
       "            \n",
       "            Bokeh.embed.embed_items(docs_json, render_items);\n",
       "          };\n",
       "          if (document.readyState != \"loading\") fn();\n",
       "          else document.addEventListener(\"DOMContentLoaded\", fn);\n",
       "        })();\n",
       "      },\n",
       "      function(Bokeh) {\n",
       "      }\n",
       "    ];\n",
       "  \n",
       "    function run_inline_js() {\n",
       "      \n",
       "      if ((window.Bokeh !== undefined) || (force === true)) {\n",
       "        for (var i = 0; i < inline_js.length; i++) {\n",
       "          inline_js[i](window.Bokeh);\n",
       "        }if (force === true) {\n",
       "          display_loaded();\n",
       "        }} else if (Date.now() < window._bokeh_timeout) {\n",
       "        setTimeout(run_inline_js, 100);\n",
       "      } else if (!window._bokeh_failed_load) {\n",
       "        console.log(\"Bokeh: BokehJS failed to load within specified timeout.\");\n",
       "        window._bokeh_failed_load = true;\n",
       "      } else if (force !== true) {\n",
       "        var cell = $(document.getElementById(\"451c6840-c117-41ad-b17e-5f88f52637d3\")).parents('.cell').data().cell;\n",
       "        cell.output_area.append_execute_result(NB_LOAD_WARNING)\n",
       "      }\n",
       "  \n",
       "    }\n",
       "  \n",
       "    if (window._bokeh_is_loading === 0) {\n",
       "      console.log(\"Bokeh: BokehJS loaded, going straight to plotting\");\n",
       "      run_inline_js();\n",
       "    } else {\n",
       "      load_libs(js_urls, function() {\n",
       "        console.log(\"Bokeh: BokehJS plotting callback run at\", now());\n",
       "        run_inline_js();\n",
       "      });\n",
       "    }\n",
       "  }(this));\n",
       "</script>"
      ]
     },
     "metadata": {},
     "output_type": "display_data"
    }
   ],
   "source": [
    "rows_with_missing_values = len(dataframes['Master'][dataframes['Master'].isnull().any(axis=1)])\n",
    "total = len(dataframes['Master'])\n",
    "\n",
    "def bokeh_pie_chart(values, labels):\n",
    "    \"\"\"Pie chart\n",
    "    \n",
    "    Draws a Bokeh pie chart\n",
    "    \n",
    "    Args:\n",
    "        values(list): List of Numpy arrays, one per type of data to show\n",
    "        labels(list): List of labels matching amount of arrays in values argument\n",
    "    \"\"\"\n",
    "    data = pd.Series(values, index=labels)\n",
    "    pie_chart = Donut(data)\n",
    "    show(pie_chart)\n",
    "\n",
    "bokeh_pie_chart([rows_with_missing_values, total-rows_with_missing_values], ['Rows with missing values', 'Rows without missing values'])"
   ]
  },
  {
   "cell_type": "markdown",
   "metadata": {},
   "source": [
    "As you can see more than 50% of entries, only from *Master* table (players), have missing values. I could not find any relevant missing values directly on tables that could directly affect my calculations. However I had to deal with missing relationships between players and schools tables as you will see underneath."
   ]
  },
  {
   "cell_type": "markdown",
   "metadata": {},
   "source": [
    "## Report found answers\n",
    "\n",
    "To answer any question about best players first I will have define what a best player is and how I will score it.\n",
    "\n",
    "**Best Player**: Player who participated on most winning matches through time being part of one or more teams.\n",
    "\n",
    "**Player/Team Score**: Ratio from the difference between Wins and Losses over amount of games played, assigned to every team."
   ]
  },
  {
   "cell_type": "markdown",
   "metadata": {},
   "source": [
    "## Wins"
   ]
  },
  {
   "cell_type": "code",
   "execution_count": 7,
   "metadata": {},
   "outputs": [
    {
     "data": {
      "text/html": [
       "<div>\n",
       "<style>\n",
       "    .dataframe thead tr:only-child th {\n",
       "        text-align: right;\n",
       "    }\n",
       "\n",
       "    .dataframe thead th {\n",
       "        text-align: left;\n",
       "    }\n",
       "\n",
       "    .dataframe tbody tr th {\n",
       "        vertical-align: top;\n",
       "    }\n",
       "</style>\n",
       "<table border=\"1\" class=\"dataframe\">\n",
       "  <thead>\n",
       "    <tr style=\"text-align: right;\">\n",
       "      <th></th>\n",
       "      <th>yearID</th>\n",
       "      <th>W</th>\n",
       "    </tr>\n",
       "  </thead>\n",
       "  <tbody>\n",
       "    <tr>\n",
       "      <th>count</th>\n",
       "      <td>2835.000000</td>\n",
       "      <td>2835.000000</td>\n",
       "    </tr>\n",
       "    <tr>\n",
       "      <th>mean</th>\n",
       "      <td>1955.681834</td>\n",
       "      <td>74.814109</td>\n",
       "    </tr>\n",
       "    <tr>\n",
       "      <th>std</th>\n",
       "      <td>41.767356</td>\n",
       "      <td>17.591208</td>\n",
       "    </tr>\n",
       "    <tr>\n",
       "      <th>min</th>\n",
       "      <td>1871.000000</td>\n",
       "      <td>0.000000</td>\n",
       "    </tr>\n",
       "    <tr>\n",
       "      <th>25%</th>\n",
       "      <td>1920.000000</td>\n",
       "      <td>66.000000</td>\n",
       "    </tr>\n",
       "    <tr>\n",
       "      <th>50%</th>\n",
       "      <td>1964.000000</td>\n",
       "      <td>77.000000</td>\n",
       "    </tr>\n",
       "    <tr>\n",
       "      <th>75%</th>\n",
       "      <td>1993.000000</td>\n",
       "      <td>87.000000</td>\n",
       "    </tr>\n",
       "    <tr>\n",
       "      <th>max</th>\n",
       "      <td>2016.000000</td>\n",
       "      <td>116.000000</td>\n",
       "    </tr>\n",
       "  </tbody>\n",
       "</table>\n",
       "</div>"
      ],
      "text/plain": [
       "            yearID            W\n",
       "count  2835.000000  2835.000000\n",
       "mean   1955.681834    74.814109\n",
       "std      41.767356    17.591208\n",
       "min    1871.000000     0.000000\n",
       "25%    1920.000000    66.000000\n",
       "50%    1964.000000    77.000000\n",
       "75%    1993.000000    87.000000\n",
       "max    2016.000000   116.000000"
      ]
     },
     "metadata": {},
     "output_type": "display_data"
    }
   ],
   "source": [
    "# Wins calculation\n",
    "team_wins_by_year = dataframes['Teams'].groupby(['teamID', 'yearID'], as_index=False)['teamID', 'W'].sum()\n",
    "team_wins_by_year.sort_values('W', ascending=False).describe()\n",
    "display(team_wins_by_year.describe())"
   ]
  },
  {
   "cell_type": "markdown",
   "metadata": {},
   "source": [
    "As you can see underneath, most of teams won between 50 to 100 games in the time window contained in this dataset. I took a 150 teams sample to show the tendency."
   ]
  },
  {
   "cell_type": "code",
   "execution_count": 8,
   "metadata": {},
   "outputs": [
    {
     "data": {
      "image/png": "[encoded data removed]",
      "text/plain": [
       "<matplotlib.figure.Figure at 0x7f93371f0f98>"
      ]
     },
     "metadata": {},
     "output_type": "display_data"
    }
   ],
   "source": [
    "team_wins_by_year_sample = team_wins_by_year.sample(n=150)\n",
    "fig = plt.figure(figsize=(16,10))\n",
    "ax = sns.stripplot(x=\"teamID\", y=\"W\", data=team_wins_by_year_sample, size=10)\n",
    "for item in ax.get_xticklabels():\n",
    "    item.set_rotation(45)\n",
    "ax.set(xlabel='Teams', ylabel='Wins')\n",
    "fig.suptitle('Teams by Yearly Wins (based on sample of 150)', fontsize=16);"
   ]
  },
  {
   "cell_type": "code",
   "execution_count": 9,
   "metadata": {},
   "outputs": [
    {
     "data": {
      "text/html": [
       "<div>\n",
       "<style>\n",
       "    .dataframe thead tr:only-child th {\n",
       "        text-align: right;\n",
       "    }\n",
       "\n",
       "    .dataframe thead th {\n",
       "        text-align: left;\n",
       "    }\n",
       "\n",
       "    .dataframe tbody tr th {\n",
       "        vertical-align: top;\n",
       "    }\n",
       "</style>\n",
       "<table border=\"1\" class=\"dataframe\">\n",
       "  <thead>\n",
       "    <tr style=\"text-align: right;\">\n",
       "      <th></th>\n",
       "      <th>W</th>\n",
       "    </tr>\n",
       "  </thead>\n",
       "  <tbody>\n",
       "    <tr>\n",
       "      <th>count</th>\n",
       "      <td>149.000000</td>\n",
       "    </tr>\n",
       "    <tr>\n",
       "      <th>mean</th>\n",
       "      <td>1423.476510</td>\n",
       "    </tr>\n",
       "    <tr>\n",
       "      <th>std</th>\n",
       "      <td>2649.598666</td>\n",
       "    </tr>\n",
       "    <tr>\n",
       "      <th>min</th>\n",
       "      <td>0.000000</td>\n",
       "    </tr>\n",
       "    <tr>\n",
       "      <th>25%</th>\n",
       "      <td>43.000000</td>\n",
       "    </tr>\n",
       "    <tr>\n",
       "      <th>50%</th>\n",
       "      <td>118.000000</td>\n",
       "    </tr>\n",
       "    <tr>\n",
       "      <th>75%</th>\n",
       "      <td>1373.000000</td>\n",
       "    </tr>\n",
       "    <tr>\n",
       "      <th>max</th>\n",
       "      <td>10711.000000</td>\n",
       "    </tr>\n",
       "  </tbody>\n",
       "</table>\n",
       "</div>"
      ],
      "text/plain": [
       "                  W\n",
       "count    149.000000\n",
       "mean    1423.476510\n",
       "std     2649.598666\n",
       "min        0.000000\n",
       "25%       43.000000\n",
       "50%      118.000000\n",
       "75%     1373.000000\n",
       "max    10711.000000"
      ]
     },
     "metadata": {},
     "output_type": "display_data"
    }
   ],
   "source": [
    "# Team Wins calculation\n",
    "team_wins_total = team_wins_by_year.groupby('teamID', as_index=False)['W'].sum()\n",
    "display(team_wins_total.describe())"
   ]
  },
  {
   "cell_type": "markdown",
   "metadata": {},
   "source": [
    "*Some statistical numbers about Team Wins*"
   ]
  },
  {
   "cell_type": "markdown",
   "metadata": {},
   "source": [
    "## Losses"
   ]
  },
  {
   "cell_type": "code",
   "execution_count": 10,
   "metadata": {},
   "outputs": [
    {
     "data": {
      "text/html": [
       "<div>\n",
       "<style>\n",
       "    .dataframe thead tr:only-child th {\n",
       "        text-align: right;\n",
       "    }\n",
       "\n",
       "    .dataframe thead th {\n",
       "        text-align: left;\n",
       "    }\n",
       "\n",
       "    .dataframe tbody tr th {\n",
       "        vertical-align: top;\n",
       "    }\n",
       "</style>\n",
       "<table border=\"1\" class=\"dataframe\">\n",
       "  <thead>\n",
       "    <tr style=\"text-align: right;\">\n",
       "      <th></th>\n",
       "      <th>yearID</th>\n",
       "      <th>L</th>\n",
       "    </tr>\n",
       "  </thead>\n",
       "  <tbody>\n",
       "    <tr>\n",
       "      <th>count</th>\n",
       "      <td>2835.000000</td>\n",
       "      <td>2835.000000</td>\n",
       "    </tr>\n",
       "    <tr>\n",
       "      <th>mean</th>\n",
       "      <td>1955.681834</td>\n",
       "      <td>74.814109</td>\n",
       "    </tr>\n",
       "    <tr>\n",
       "      <th>std</th>\n",
       "      <td>41.767356</td>\n",
       "      <td>17.331455</td>\n",
       "    </tr>\n",
       "    <tr>\n",
       "      <th>min</th>\n",
       "      <td>1871.000000</td>\n",
       "      <td>4.000000</td>\n",
       "    </tr>\n",
       "    <tr>\n",
       "      <th>25%</th>\n",
       "      <td>1920.000000</td>\n",
       "      <td>65.000000</td>\n",
       "    </tr>\n",
       "    <tr>\n",
       "      <th>50%</th>\n",
       "      <td>1964.000000</td>\n",
       "      <td>76.000000</td>\n",
       "    </tr>\n",
       "    <tr>\n",
       "      <th>75%</th>\n",
       "      <td>1993.000000</td>\n",
       "      <td>87.000000</td>\n",
       "    </tr>\n",
       "    <tr>\n",
       "      <th>max</th>\n",
       "      <td>2016.000000</td>\n",
       "      <td>134.000000</td>\n",
       "    </tr>\n",
       "  </tbody>\n",
       "</table>\n",
       "</div>"
      ],
      "text/plain": [
       "            yearID            L\n",
       "count  2835.000000  2835.000000\n",
       "mean   1955.681834    74.814109\n",
       "std      41.767356    17.331455\n",
       "min    1871.000000     4.000000\n",
       "25%    1920.000000    65.000000\n",
       "50%    1964.000000    76.000000\n",
       "75%    1993.000000    87.000000\n",
       "max    2016.000000   134.000000"
      ]
     },
     "metadata": {},
     "output_type": "display_data"
    }
   ],
   "source": [
    "# Losses calculation\n",
    "team_losses_by_year = dataframes['Teams'].groupby(['teamID', 'yearID'], as_index=False)['teamID', 'L'].sum()\n",
    "team_losses_by_year.sort_values('L', ascending=False).describe()\n",
    "display(team_losses_by_year.describe())\n",
    "team_losses_by_year_sample = team_losses_by_year.sample(n=150)"
   ]
  },
  {
   "cell_type": "markdown",
   "metadata": {},
   "source": [
    "Now, showing below the amount of games that most of teams lost, the average is slightly higher (from 60 to 100).<br>\n",
    "Does it make sense? Well, not everyone can win..."
   ]
  },
  {
   "cell_type": "code",
   "execution_count": 11,
   "metadata": {},
   "outputs": [
    {
     "data": {
      "image/png": "[encoded data removed]",
      "text/plain": [
       "<matplotlib.figure.Figure at 0x7f93347098d0>"
      ]
     },
     "metadata": {},
     "output_type": "display_data"
    }
   ],
   "source": [
    "fig = plt.figure(figsize=(16,10))\n",
    "ax = sns.stripplot(x=\"teamID\", y=\"L\", data=team_losses_by_year_sample, size=8)\n",
    "for item in ax.get_xticklabels():\n",
    "    item.set_rotation(45)\n",
    "ax.set(xlabel='Teams', ylabel='Losses')\n",
    "fig.suptitle('Teams by Yearly Losses (based on sample of 150)', fontsize=16);"
   ]
  },
  {
   "cell_type": "code",
   "execution_count": 12,
   "metadata": {},
   "outputs": [
    {
     "data": {
      "text/html": [
       "<div>\n",
       "<style>\n",
       "    .dataframe thead tr:only-child th {\n",
       "        text-align: right;\n",
       "    }\n",
       "\n",
       "    .dataframe thead th {\n",
       "        text-align: left;\n",
       "    }\n",
       "\n",
       "    .dataframe tbody tr th {\n",
       "        vertical-align: top;\n",
       "    }\n",
       "</style>\n",
       "<table border=\"1\" class=\"dataframe\">\n",
       "  <thead>\n",
       "    <tr style=\"text-align: right;\">\n",
       "      <th></th>\n",
       "      <th>L</th>\n",
       "    </tr>\n",
       "  </thead>\n",
       "  <tbody>\n",
       "    <tr>\n",
       "      <th>count</th>\n",
       "      <td>149.000000</td>\n",
       "    </tr>\n",
       "    <tr>\n",
       "      <th>mean</th>\n",
       "      <td>1423.476510</td>\n",
       "    </tr>\n",
       "    <tr>\n",
       "      <th>std</th>\n",
       "      <td>2570.942743</td>\n",
       "    </tr>\n",
       "    <tr>\n",
       "      <th>min</th>\n",
       "      <td>4.000000</td>\n",
       "    </tr>\n",
       "    <tr>\n",
       "      <th>25%</th>\n",
       "      <td>51.000000</td>\n",
       "    </tr>\n",
       "    <tr>\n",
       "      <th>50%</th>\n",
       "      <td>149.000000</td>\n",
       "    </tr>\n",
       "    <tr>\n",
       "      <th>75%</th>\n",
       "      <td>1575.000000</td>\n",
       "    </tr>\n",
       "    <tr>\n",
       "      <th>max</th>\n",
       "      <td>10741.000000</td>\n",
       "    </tr>\n",
       "  </tbody>\n",
       "</table>\n",
       "</div>"
      ],
      "text/plain": [
       "                  L\n",
       "count    149.000000\n",
       "mean    1423.476510\n",
       "std     2570.942743\n",
       "min        4.000000\n",
       "25%       51.000000\n",
       "50%      149.000000\n",
       "75%     1575.000000\n",
       "max    10741.000000"
      ]
     },
     "metadata": {},
     "output_type": "display_data"
    }
   ],
   "source": [
    "# Team losses calculation\n",
    "team_losses_total = team_losses_by_year.groupby('teamID', as_index=False)['L'].sum()\n",
    "display(team_losses_total.describe())"
   ]
  },
  {
   "cell_type": "markdown",
   "metadata": {},
   "source": [
    "*And some more statistical numbers about Team Losses*"
   ]
  },
  {
   "cell_type": "markdown",
   "metadata": {},
   "source": [
    "## Defining Scores\n",
    "Any score will be calculated as follows: (wins - losses) / n_games."
   ]
  },
  {
   "cell_type": "code",
   "execution_count": 13,
   "metadata": {
    "collapsed": true
   },
   "outputs": [],
   "source": [
    "def calc_score(x):\n",
    "    \"\"\"Score calculation\n",
    "    \n",
    "    Calculates score based on Wins vs. Losses over amount of games\n",
    "    \n",
    "    Args:\n",
    "        x(DataFrame): One column DataFrame\n",
    "    Returns:\n",
    "        float: Formula result\n",
    "    \"\"\"\n",
    "    return (x['W'] - x['L']) / (x['W'] + x['L'])"
   ]
  },
  {
   "cell_type": "markdown",
   "metadata": {},
   "source": [
    "*Statistical information and first entries of Team Results*"
   ]
  },
  {
   "cell_type": "code",
   "execution_count": 14,
   "metadata": {},
   "outputs": [
    {
     "data": {
      "text/plain": [
       "count    149.000000\n",
       "mean      -0.116981\n",
       "std        0.290331\n",
       "min       -1.000000\n",
       "25%       -0.260759\n",
       "50%       -0.039216\n",
       "75%        0.035993\n",
       "max        0.663717\n",
       "dtype: float64"
      ]
     },
     "metadata": {},
     "output_type": "display_data"
    },
    {
     "data": {
      "text/html": [
       "<div>\n",
       "<style>\n",
       "    .dataframe thead tr:only-child th {\n",
       "        text-align: right;\n",
       "    }\n",
       "\n",
       "    .dataframe thead th {\n",
       "        text-align: left;\n",
       "    }\n",
       "\n",
       "    .dataframe tbody tr th {\n",
       "        vertical-align: top;\n",
       "    }\n",
       "</style>\n",
       "<table border=\"1\" class=\"dataframe\">\n",
       "  <thead>\n",
       "    <tr style=\"text-align: right;\">\n",
       "      <th></th>\n",
       "      <th>teamID</th>\n",
       "      <th>W</th>\n",
       "      <th>L</th>\n",
       "      <th>score</th>\n",
       "    </tr>\n",
       "  </thead>\n",
       "  <tbody>\n",
       "    <tr>\n",
       "      <th>0</th>\n",
       "      <td>ALT</td>\n",
       "      <td>6</td>\n",
       "      <td>19</td>\n",
       "      <td>-0.520000</td>\n",
       "    </tr>\n",
       "    <tr>\n",
       "      <th>1</th>\n",
       "      <td>ANA</td>\n",
       "      <td>664</td>\n",
       "      <td>632</td>\n",
       "      <td>0.024691</td>\n",
       "    </tr>\n",
       "    <tr>\n",
       "      <th>2</th>\n",
       "      <td>ARI</td>\n",
       "      <td>1503</td>\n",
       "      <td>1575</td>\n",
       "      <td>-0.023392</td>\n",
       "    </tr>\n",
       "    <tr>\n",
       "      <th>3</th>\n",
       "      <td>ATL</td>\n",
       "      <td>4174</td>\n",
       "      <td>3944</td>\n",
       "      <td>0.028332</td>\n",
       "    </tr>\n",
       "    <tr>\n",
       "      <th>4</th>\n",
       "      <td>BAL</td>\n",
       "      <td>5130</td>\n",
       "      <td>4864</td>\n",
       "      <td>0.026616</td>\n",
       "    </tr>\n",
       "  </tbody>\n",
       "</table>\n",
       "</div>"
      ],
      "text/plain": [
       "  teamID     W     L     score\n",
       "0    ALT     6    19 -0.520000\n",
       "1    ANA   664   632  0.024691\n",
       "2    ARI  1503  1575 -0.023392\n",
       "3    ATL  4174  3944  0.028332\n",
       "4    BAL  5130  4864  0.026616"
      ]
     },
     "metadata": {},
     "output_type": "display_data"
    }
   ],
   "source": [
    "# Team results calculation\n",
    "teams_results = team_wins_total.merge(team_losses_total, on='teamID', how='inner')\n",
    "tscores = teams_results.apply(calc_score, axis=1)\n",
    "teams_results['score'] = tscores.values\n",
    "display(tscores.describe())\n",
    "display(teams_results.head())"
   ]
  },
  {
   "cell_type": "markdown",
   "metadata": {},
   "source": [
    "Again, now displayed as a distribution, teams seem to be draw, but slightly negatively skewed. Which has the same meaning as the previous plot: there are more teams losing than winning. "
   ]
  },
  {
   "cell_type": "code",
   "execution_count": 15,
   "metadata": {
    "scrolled": false
   },
   "outputs": [
    {
     "data": {
      "image/png": "[encoded data removed]",
      "text/plain": [
       "<matplotlib.figure.Figure at 0x7f9333dce1d0>"
      ]
     },
     "metadata": {},
     "output_type": "display_data"
    }
   ],
   "source": [
    "distribution(tscores, xlabel='Score', ylabel='Teams', title='Team Score Distribution')"
   ]
  },
  {
   "cell_type": "markdown",
   "metadata": {},
   "source": [
    "## Best Teams\n",
    "Since Teams are too many, I will take a sample using *Pandas' quantile* function set to 0.8 in order to get only the best 20% of best teams."
   ]
  },
  {
   "cell_type": "code",
   "execution_count": 16,
   "metadata": {},
   "outputs": [
    {
     "data": {
      "text/html": [
       "<div>\n",
       "<style>\n",
       "    .dataframe thead tr:only-child th {\n",
       "        text-align: right;\n",
       "    }\n",
       "\n",
       "    .dataframe thead th {\n",
       "        text-align: left;\n",
       "    }\n",
       "\n",
       "    .dataframe tbody tr th {\n",
       "        vertical-align: top;\n",
       "    }\n",
       "</style>\n",
       "<table border=\"1\" class=\"dataframe\">\n",
       "  <thead>\n",
       "    <tr style=\"text-align: right;\">\n",
       "      <th></th>\n",
       "      <th>W</th>\n",
       "      <th>L</th>\n",
       "      <th>score</th>\n",
       "    </tr>\n",
       "  </thead>\n",
       "  <tbody>\n",
       "    <tr>\n",
       "      <th>count</th>\n",
       "      <td>30.000000</td>\n",
       "      <td>30.000000</td>\n",
       "      <td>30.000000</td>\n",
       "    </tr>\n",
       "    <tr>\n",
       "      <th>mean</th>\n",
       "      <td>899.566667</td>\n",
       "      <td>693.766667</td>\n",
       "      <td>0.212257</td>\n",
       "    </tr>\n",
       "    <tr>\n",
       "      <th>std</th>\n",
       "      <td>2219.937413</td>\n",
       "      <td>1748.004334</td>\n",
       "      <td>0.142531</td>\n",
       "    </tr>\n",
       "    <tr>\n",
       "      <th>min</th>\n",
       "      <td>8.000000</td>\n",
       "      <td>4.000000</td>\n",
       "      <td>0.064220</td>\n",
       "    </tr>\n",
       "    <tr>\n",
       "      <th>25%</th>\n",
       "      <td>73.250000</td>\n",
       "      <td>47.250000</td>\n",
       "      <td>0.126745</td>\n",
       "    </tr>\n",
       "    <tr>\n",
       "      <th>50%</th>\n",
       "      <td>93.500000</td>\n",
       "      <td>61.000000</td>\n",
       "      <td>0.156710</td>\n",
       "    </tr>\n",
       "    <tr>\n",
       "      <th>75%</th>\n",
       "      <td>431.000000</td>\n",
       "      <td>335.000000</td>\n",
       "      <td>0.279741</td>\n",
       "    </tr>\n",
       "    <tr>\n",
       "      <th>max</th>\n",
       "      <td>10084.000000</td>\n",
       "      <td>7648.000000</td>\n",
       "      <td>0.663717</td>\n",
       "    </tr>\n",
       "  </tbody>\n",
       "</table>\n",
       "</div>"
      ],
      "text/plain": [
       "                  W            L      score\n",
       "count     30.000000    30.000000  30.000000\n",
       "mean     899.566667   693.766667   0.212257\n",
       "std     2219.937413  1748.004334   0.142531\n",
       "min        8.000000     4.000000   0.064220\n",
       "25%       73.250000    47.250000   0.126745\n",
       "50%       93.500000    61.000000   0.156710\n",
       "75%      431.000000   335.000000   0.279741\n",
       "max    10084.000000  7648.000000   0.663717"
      ]
     },
     "metadata": {},
     "output_type": "display_data"
    }
   ],
   "source": [
    "# Best teams calculation\n",
    "best_teams = teams_results[teams_results['score'] > teams_results.quantile(q=0.8)['score']].sort_values('score', ascending=False)\n",
    "display(best_teams.describe())"
   ]
  },
  {
   "cell_type": "markdown",
   "metadata": {},
   "source": [
    "Now we have only 30 teams. If you check the previous figure the minimum score_norm was -1. Now it is 0.064, and max of 0.664."
   ]
  },
  {
   "cell_type": "markdown",
   "metadata": {},
   "source": [
    "## Best Teams\n",
    "After selecting only teams with higher scores the difference is quite significant. This plot is clearly positive skewed, showing that best scores are reserved only for the best of the best teams."
   ]
  },
  {
   "cell_type": "code",
   "execution_count": 17,
   "metadata": {},
   "outputs": [
    {
     "data": {
      "image/png": "[encoded data removed]",
      "text/plain": [
       "<matplotlib.figure.Figure at 0x7f9333dc8390>"
      ]
     },
     "metadata": {},
     "output_type": "display_data"
    }
   ],
   "source": [
    "distribution(best_teams['score'].values, color='m', xlabel='Score', ylabel='Teams', title='Best Team Score Distribution')"
   ]
  },
  {
   "cell_type": "markdown",
   "metadata": {},
   "source": [
    "## Best Players\n",
    "Score range goes now from -3 to 3."
   ]
  },
  {
   "cell_type": "code",
   "execution_count": 18,
   "metadata": {},
   "outputs": [
    {
     "data": {
      "text/html": [
       "<div>\n",
       "<style>\n",
       "    .dataframe thead tr:only-child th {\n",
       "        text-align: right;\n",
       "    }\n",
       "\n",
       "    .dataframe thead th {\n",
       "        text-align: left;\n",
       "    }\n",
       "\n",
       "    .dataframe tbody tr th {\n",
       "        vertical-align: top;\n",
       "    }\n",
       "</style>\n",
       "<table border=\"1\" class=\"dataframe\">\n",
       "  <thead>\n",
       "    <tr style=\"text-align: right;\">\n",
       "      <th></th>\n",
       "      <th>W</th>\n",
       "      <th>L</th>\n",
       "      <th>score</th>\n",
       "    </tr>\n",
       "  </thead>\n",
       "  <tbody>\n",
       "    <tr>\n",
       "      <th>count</th>\n",
       "      <td>18912.000000</td>\n",
       "      <td>18912.000000</td>\n",
       "      <td>18912.000000</td>\n",
       "    </tr>\n",
       "    <tr>\n",
       "      <th>mean</th>\n",
       "      <td>33523.823551</td>\n",
       "      <td>32767.876428</td>\n",
       "      <td>-0.016261</td>\n",
       "    </tr>\n",
       "    <tr>\n",
       "      <th>std</th>\n",
       "      <td>36578.098625</td>\n",
       "      <td>35322.251635</td>\n",
       "      <td>0.321425</td>\n",
       "    </tr>\n",
       "    <tr>\n",
       "      <th>min</th>\n",
       "      <td>0.000000</td>\n",
       "      <td>4.000000</td>\n",
       "      <td>-3.027457</td>\n",
       "    </tr>\n",
       "    <tr>\n",
       "      <th>25%</th>\n",
       "      <td>9082.000000</td>\n",
       "      <td>8707.000000</td>\n",
       "      <td>-0.112395</td>\n",
       "    </tr>\n",
       "    <tr>\n",
       "      <th>50%</th>\n",
       "      <td>19248.500000</td>\n",
       "      <td>18836.000000</td>\n",
       "      <td>0.006084</td>\n",
       "    </tr>\n",
       "    <tr>\n",
       "      <th>75%</th>\n",
       "      <td>48576.250000</td>\n",
       "      <td>47457.000000</td>\n",
       "      <td>0.074130</td>\n",
       "    </tr>\n",
       "    <tr>\n",
       "      <th>max</th>\n",
       "      <td>245091.000000</td>\n",
       "      <td>258283.000000</td>\n",
       "      <td>3.117700</td>\n",
       "    </tr>\n",
       "  </tbody>\n",
       "</table>\n",
       "</div>"
      ],
      "text/plain": [
       "                   W              L         score\n",
       "count   18912.000000   18912.000000  18912.000000\n",
       "mean    33523.823551   32767.876428     -0.016261\n",
       "std     36578.098625   35322.251635      0.321425\n",
       "min         0.000000       4.000000     -3.027457\n",
       "25%      9082.000000    8707.000000     -0.112395\n",
       "50%     19248.500000   18836.000000      0.006084\n",
       "75%     48576.250000   47457.000000      0.074130\n",
       "max    245091.000000  258283.000000      3.117700"
      ]
     },
     "metadata": {},
     "output_type": "display_data"
    }
   ],
   "source": [
    "# Player results calculation\n",
    "players_results = dataframes['Appearances'].merge(teams_results, on='teamID', how='inner').groupby(['playerID'], as_index=False)['W', 'L', 'score'].sum()\n",
    "pscores = players_results['score'].values\n",
    "display(players_results.describe())"
   ]
  },
  {
   "cell_type": "markdown",
   "metadata": {},
   "source": [
    "Now looking only at the best players, the distribution of score is perfectly symmetric."
   ]
  },
  {
   "cell_type": "code",
   "execution_count": 19,
   "metadata": {},
   "outputs": [
    {
     "data": {
      "image/png": "[encoded data removed]",
      "text/plain": [
       "<matplotlib.figure.Figure at 0x7f9333dc00f0>"
      ]
     },
     "metadata": {},
     "output_type": "display_data"
    }
   ],
   "source": [
    "distribution(pscores, xlabel='Score', ylabel='Players', title='Best Players Score Distribution')"
   ]
  },
  {
   "cell_type": "markdown",
   "metadata": {},
   "source": [
    "Now looking at the best 2% of players the shape of this positively skewed distribution represents only a small portion on the right side of the previous plot."
   ]
  },
  {
   "cell_type": "code",
   "execution_count": 20,
   "metadata": {},
   "outputs": [
    {
     "data": {
      "image/png": "[encoded data removed]",
      "text/plain": [
       "<matplotlib.figure.Figure at 0x7f9335a88588>"
      ]
     },
     "metadata": {},
     "output_type": "display_data"
    }
   ],
   "source": [
    "# Players participating on games calculation\n",
    "players_appearences = players_results.merge(dataframes['Appearances'].groupby('playerID', as_index=False)['teamID'].count(), on='playerID', how='left')\n",
    "best_players_appearences = players_appearences[players_appearences['score'] > players_appearences.quantile(q=0.98)['score']]\n",
    "distribution(best_players_appearences['score'].values, color='r', xlabel='Score', ylabel='Players', title='2% Best Players Distribution')"
   ]
  },
  {
   "cell_type": "markdown",
   "metadata": {},
   "source": [
    "## Question 1\n",
    "### Which school did winners go to?\n",
    "Surprisingly, the best player regarding games played in winning teams, does not report school, as you can see below."
   ]
  },
  {
   "cell_type": "code",
   "execution_count": 21,
   "metadata": {
    "scrolled": false
   },
   "outputs": [
    {
     "data": {
      "text/html": [
       "<div>\n",
       "<style>\n",
       "    .dataframe thead tr:only-child th {\n",
       "        text-align: right;\n",
       "    }\n",
       "\n",
       "    .dataframe thead th {\n",
       "        text-align: left;\n",
       "    }\n",
       "\n",
       "    .dataframe tbody tr th {\n",
       "        vertical-align: top;\n",
       "    }\n",
       "</style>\n",
       "<table border=\"1\" class=\"dataframe\">\n",
       "  <thead>\n",
       "    <tr style=\"text-align: right;\">\n",
       "      <th></th>\n",
       "      <th>playerID</th>\n",
       "      <th>nameGiven</th>\n",
       "      <th>schoolID</th>\n",
       "      <th>school_count</th>\n",
       "    </tr>\n",
       "  </thead>\n",
       "  <tbody>\n",
       "    <tr>\n",
       "      <th>0</th>\n",
       "      <td>aaronha01</td>\n",
       "      <td>Henry Louis</td>\n",
       "      <td>{nan}</td>\n",
       "      <td>0</td>\n",
       "    </tr>\n",
       "    <tr>\n",
       "      <th>1</th>\n",
       "      <td>adcocjo01</td>\n",
       "      <td>Joseph Wilbur</td>\n",
       "      <td>{lsu}</td>\n",
       "      <td>1</td>\n",
       "    </tr>\n",
       "    <tr>\n",
       "      <th>2</th>\n",
       "      <td>alexado01</td>\n",
       "      <td>Doyle Lafayette</td>\n",
       "      <td>{nan}</td>\n",
       "      <td>0</td>\n",
       "    </tr>\n",
       "    <tr>\n",
       "      <th>3</th>\n",
       "      <td>allenjo02</td>\n",
       "      <td>John Thomas</td>\n",
       "      <td>{nan}</td>\n",
       "      <td>0</td>\n",
       "    </tr>\n",
       "    <tr>\n",
       "      <th>4</th>\n",
       "      <td>aloufe01</td>\n",
       "      <td>Felipe Rojas</td>\n",
       "      <td>{nan}</td>\n",
       "      <td>0</td>\n",
       "    </tr>\n",
       "  </tbody>\n",
       "</table>\n",
       "</div>"
      ],
      "text/plain": [
       "    playerID        nameGiven schoolID  school_count\n",
       "0  aaronha01      Henry Louis    {nan}             0\n",
       "1  adcocjo01    Joseph Wilbur    {lsu}             1\n",
       "2  alexado01  Doyle Lafayette    {nan}             0\n",
       "3  allenjo02      John Thomas    {nan}             0\n",
       "4   aloufe01     Felipe Rojas    {nan}             0"
      ]
     },
     "metadata": {},
     "output_type": "display_data"
    }
   ],
   "source": [
    "def set_to_str(x):\n",
    "    \"\"\"Set to string helper function\n",
    "    \n",
    "    Converts a set to string\n",
    "    \n",
    "    Args:\n",
    "        x(set): Set to be represented as a string\n",
    "    Returns:\n",
    "        string: String representation of set\n",
    "    \"\"\"\n",
    "    x = ','.join([str(c) for c in x])\n",
    "    return x\n",
    "def set_to_count(x):\n",
    "    \"\"\"Set to count helper function\n",
    "    \n",
    "    Converts a set into the count of its elements\n",
    "    \n",
    "    Args:\n",
    "        x(set): Set to be counted\n",
    "    Returns:\n",
    "        int: Number of elements contained in the set\n",
    "    \"\"\"\n",
    "    if str(x) == '{nan}':\n",
    "        return 0\n",
    "    return len(x)\n",
    "schools_of_winners = best_players_appearences.merge(dataframes['CollegePlaying'], on='playerID', how='left')\n",
    "best_players_appearences_with_schools = best_players_appearences.merge(schools_of_winners, on='playerID', how='left').groupby('playerID', as_index=False).agg({'schoolID': lambda x: set(x)})\n",
    "best_players_appearences_with_schools['school_count'] = best_players_appearences_with_schools['schoolID'].apply(set_to_count)\n",
    "display(best_players_appearences_with_schools.merge(dataframes['Master'], on='playerID', how='left')[['playerID', 'nameGiven', 'schoolID', 'school_count']].head())"
   ]
  },
  {
   "cell_type": "markdown",
   "metadata": {},
   "source": [
    "*Almost none of best players report schools*"
   ]
  },
  {
   "cell_type": "markdown",
   "metadata": {},
   "source": [
    "### Missing Relationships\n",
    "I will have to exclude player entries with no schools in order to generate a ranking of best schools, based on best players who have reported one or more schools. To do so, I will count schools for each player, and then exclude those entries with school equal to zero."
   ]
  },
  {
   "cell_type": "markdown",
   "metadata": {},
   "source": [
    "### Top10 Schools regarding best players"
   ]
  },
  {
   "cell_type": "code",
   "execution_count": 22,
   "metadata": {
    "scrolled": false
   },
   "outputs": [
    {
     "data": {
      "text/html": [
       "<div>\n",
       "<style>\n",
       "    .dataframe thead tr:only-child th {\n",
       "        text-align: right;\n",
       "    }\n",
       "\n",
       "    .dataframe thead th {\n",
       "        text-align: left;\n",
       "    }\n",
       "\n",
       "    .dataframe tbody tr th {\n",
       "        vertical-align: top;\n",
       "    }\n",
       "</style>\n",
       "<table border=\"1\" class=\"dataframe\">\n",
       "  <thead>\n",
       "    <tr style=\"text-align: right;\">\n",
       "      <th></th>\n",
       "      <th>School</th>\n",
       "    </tr>\n",
       "  </thead>\n",
       "  <tbody>\n",
       "    <tr>\n",
       "      <th>1</th>\n",
       "      <td>columbia</td>\n",
       "    </tr>\n",
       "    <tr>\n",
       "      <th>2</th>\n",
       "      <td>alcalho</td>\n",
       "    </tr>\n",
       "    <tr>\n",
       "      <th>3</th>\n",
       "      <td>pennst</td>\n",
       "    </tr>\n",
       "    <tr>\n",
       "      <th>4</th>\n",
       "      <td>txsjjcn</td>\n",
       "    </tr>\n",
       "    <tr>\n",
       "      <th>5</th>\n",
       "      <td>ulala</td>\n",
       "    </tr>\n",
       "    <tr>\n",
       "      <th>6</th>\n",
       "      <td>bucknell</td>\n",
       "    </tr>\n",
       "    <tr>\n",
       "      <th>7</th>\n",
       "      <td>stbonny</td>\n",
       "    </tr>\n",
       "    <tr>\n",
       "      <th>8</th>\n",
       "      <td>fordham</td>\n",
       "    </tr>\n",
       "    <tr>\n",
       "      <th>9</th>\n",
       "      <td>casjcco</td>\n",
       "    </tr>\n",
       "    <tr>\n",
       "      <th>10</th>\n",
       "      <td>sliprock</td>\n",
       "    </tr>\n",
       "  </tbody>\n",
       "</table>\n",
       "</div>"
      ],
      "text/plain": [
       "      School\n",
       "1   columbia\n",
       "2    alcalho\n",
       "3     pennst\n",
       "4    txsjjcn\n",
       "5      ulala\n",
       "6   bucknell\n",
       "7    stbonny\n",
       "8    fordham\n",
       "9    casjcco\n",
       "10  sliprock"
      ]
     },
     "metadata": {},
     "output_type": "display_data"
    }
   ],
   "source": [
    "best_players_with_school_and_score = best_players_appearences.merge(best_players_appearences_with_schools, on='playerID', how='left')\n",
    "top10_schools = best_players_with_school_and_score[best_players_with_school_and_score['school_count'] > 0].sort_values('score', ascending=False).apply({'schoolID': lambda x: ','.join(x)}).iloc[0:10]\n",
    "display_1d_array(top10_schools.values, col_name='School')"
   ]
  },
  {
   "cell_type": "markdown",
   "metadata": {},
   "source": [
    "*List ot top 10 schools*"
   ]
  },
  {
   "cell_type": "markdown",
   "metadata": {},
   "source": [
    "## Question 2\n",
    "### Did best players get the highest salaries?\n",
    "Apparently participating in more winning games doesn't have a strict correlation with highest salaries, but they are still in a massive salaries list.\n",
    "To calculate the salaries, I took the maximum salary for each player/team.\n",
    "\n",
    "As you can see underneath, highest salaries didn't go to players of teams with more successful games."
   ]
  },
  {
   "cell_type": "code",
   "execution_count": 23,
   "metadata": {
    "scrolled": false
   },
   "outputs": [
    {
     "data": {
      "text/html": [
       "<div>\n",
       "<style>\n",
       "    .dataframe thead tr:only-child th {\n",
       "        text-align: right;\n",
       "    }\n",
       "\n",
       "    .dataframe thead th {\n",
       "        text-align: left;\n",
       "    }\n",
       "\n",
       "    .dataframe tbody tr th {\n",
       "        vertical-align: top;\n",
       "    }\n",
       "</style>\n",
       "<table border=\"1\" class=\"dataframe\">\n",
       "  <thead>\n",
       "    <tr style=\"text-align: right;\">\n",
       "      <th></th>\n",
       "      <th>salary</th>\n",
       "      <th>score</th>\n",
       "    </tr>\n",
       "  </thead>\n",
       "  <tbody>\n",
       "    <tr>\n",
       "      <th>count</th>\n",
       "      <td>81.000000</td>\n",
       "      <td>81.000000</td>\n",
       "    </tr>\n",
       "    <tr>\n",
       "      <th>mean</th>\n",
       "      <td>3.393315</td>\n",
       "      <td>1.100684</td>\n",
       "    </tr>\n",
       "    <tr>\n",
       "      <th>std</th>\n",
       "      <td>3.968022</td>\n",
       "      <td>0.428036</td>\n",
       "    </tr>\n",
       "    <tr>\n",
       "      <th>min</th>\n",
       "      <td>0.139167</td>\n",
       "      <td>0.720521</td>\n",
       "    </tr>\n",
       "    <tr>\n",
       "      <th>25%</th>\n",
       "      <td>0.774000</td>\n",
       "      <td>0.824273</td>\n",
       "    </tr>\n",
       "    <tr>\n",
       "      <th>50%</th>\n",
       "      <td>1.620000</td>\n",
       "      <td>0.978056</td>\n",
       "    </tr>\n",
       "    <tr>\n",
       "      <th>75%</th>\n",
       "      <td>5.037919</td>\n",
       "      <td>1.188719</td>\n",
       "    </tr>\n",
       "    <tr>\n",
       "      <th>max</th>\n",
       "      <td>18.109830</td>\n",
       "      <td>2.747575</td>\n",
       "    </tr>\n",
       "  </tbody>\n",
       "</table>\n",
       "</div>"
      ],
      "text/plain": [
       "          salary      score\n",
       "count  81.000000  81.000000\n",
       "mean    3.393315   1.100684\n",
       "std     3.968022   0.428036\n",
       "min     0.139167   0.720521\n",
       "25%     0.774000   0.824273\n",
       "50%     1.620000   0.978056\n",
       "75%     5.037919   1.188719\n",
       "max    18.109830   2.747575"
      ]
     },
     "metadata": {},
     "output_type": "display_data"
    }
   ],
   "source": [
    "def calculate_mean_salary(x):\n",
    "    count = len(x)\n",
    "    return ((1/count) * np.sum(x)/1000000)\n",
    "\n",
    "best_players_salaries = dataframes['Salaries'].merge(best_players_with_school_and_score, on='playerID', how='right')[['playerID', 'salary', 'yearID', 'score']].dropna().sort_values(['salary'], ascending=False)\n",
    "bpsalaries = best_players_salaries['salary'].values\n",
    "#bscore_norm = MinMaxScaler().fit_transform(bpsalaries.astype(np.float64).reshape(-1, 1)).flatten()\n",
    "#best_players_salaries['salary_norm'] = bpscore_norm\n",
    "\n",
    "highest_salaries_players_with_score = best_players_salaries.groupby('playerID', as_index=False).agg({'salary': calculate_mean_salary}).merge(players_results, on='playerID', how='left')\n",
    "display(highest_salaries_players_with_score[['salary', 'score']].describe())"
   ]
  },
  {
   "cell_type": "markdown",
   "metadata": {},
   "source": [
    "*Statistical information of best players scores vs. salaries (expressed in millions of USD)*"
   ]
  },
  {
   "cell_type": "code",
   "execution_count": 24,
   "metadata": {},
   "outputs": [
    {
     "name": "stdout",
     "output_type": "stream",
     "text": [
      "Highest salary (millions)\n"
     ]
    },
    {
     "data": {
      "text/html": [
       "<div>\n",
       "<style>\n",
       "    .dataframe thead tr:only-child th {\n",
       "        text-align: right;\n",
       "    }\n",
       "\n",
       "    .dataframe thead th {\n",
       "        text-align: left;\n",
       "    }\n",
       "\n",
       "    .dataframe tbody tr th {\n",
       "        vertical-align: top;\n",
       "    }\n",
       "</style>\n",
       "<table border=\"1\" class=\"dataframe\">\n",
       "  <thead>\n",
       "    <tr style=\"text-align: right;\">\n",
       "      <th></th>\n",
       "      <th>playerID</th>\n",
       "      <th>nameGiven</th>\n",
       "      <th>salary</th>\n",
       "      <th>score</th>\n",
       "    </tr>\n",
       "  </thead>\n",
       "  <tbody>\n",
       "    <tr>\n",
       "      <th>0</th>\n",
       "      <td>rodrial01</td>\n",
       "      <td>Alexander Enmanuel</td>\n",
       "      <td>18.10983</td>\n",
       "      <td>1.188719</td>\n",
       "    </tr>\n",
       "  </tbody>\n",
       "</table>\n",
       "</div>"
      ],
      "text/plain": [
       "    playerID           nameGiven    salary     score\n",
       "0  rodrial01  Alexander Enmanuel  18.10983  1.188719"
      ]
     },
     "metadata": {},
     "output_type": "display_data"
    },
    {
     "name": "stdout",
     "output_type": "stream",
     "text": [
      "Highest score\n"
     ]
    },
    {
     "data": {
      "text/html": [
       "<div>\n",
       "<style>\n",
       "    .dataframe thead tr:only-child th {\n",
       "        text-align: right;\n",
       "    }\n",
       "\n",
       "    .dataframe thead th {\n",
       "        text-align: left;\n",
       "    }\n",
       "\n",
       "    .dataframe tbody tr th {\n",
       "        vertical-align: top;\n",
       "    }\n",
       "</style>\n",
       "<table border=\"1\" class=\"dataframe\">\n",
       "  <thead>\n",
       "    <tr style=\"text-align: right;\">\n",
       "      <th></th>\n",
       "      <th>playerID</th>\n",
       "      <th>nameGiven</th>\n",
       "      <th>salary</th>\n",
       "      <th>score</th>\n",
       "    </tr>\n",
       "  </thead>\n",
       "  <tbody>\n",
       "    <tr>\n",
       "      <th>0</th>\n",
       "      <td>jeterde01</td>\n",
       "      <td>Derek Sanderson</td>\n",
       "      <td>13.927268</td>\n",
       "      <td>2.747575</td>\n",
       "    </tr>\n",
       "  </tbody>\n",
       "</table>\n",
       "</div>"
      ],
      "text/plain": [
       "    playerID        nameGiven     salary     score\n",
       "0  jeterde01  Derek Sanderson  13.927268  2.747575"
      ]
     },
     "metadata": {},
     "output_type": "display_data"
    }
   ],
   "source": [
    "max_salary_idx = highest_salaries_players_with_score[['salary']].idxmax()\n",
    "max_score_idx = highest_salaries_players_with_score[['score']].idxmax()\n",
    "print('Highest salary (millions)')\n",
    "display(highest_salaries_players_with_score.loc[max_salary_idx].merge(dataframes['Master'], on='playerID', how='left')[['playerID', 'nameGiven', 'salary', 'score']])\n",
    "print('Highest score')\n",
    "display(highest_salaries_players_with_score.loc[max_score_idx].merge(dataframes['Master'], on='playerID', how='left')[['playerID', 'nameGiven', 'salary', 'score']])"
   ]
  },
  {
   "cell_type": "markdown",
   "metadata": {},
   "source": [
    "Here is the difference between the player getting the highest salary and the one participating the more winning games."
   ]
  },
  {
   "cell_type": "code",
   "execution_count": 25,
   "metadata": {},
   "outputs": [
    {
     "data": {
      "image/png": "[encoded data removed]",
      "text/plain": [
       "<matplotlib.figure.Figure at 0x7f93370d7518>"
      ]
     },
     "metadata": {},
     "output_type": "display_data"
    }
   ],
   "source": [
    "plot_correlation2(data=highest_salaries_players_with_score, x_var=\"score\", y_var=\"salary\", title='Correlation between Salary and Score')"
   ]
  },
  {
   "cell_type": "markdown",
   "metadata": {},
   "source": [
    "Do best players get higher salaries? It is pretty difficult to see using only the variables on this report. It might be interesting to include more variables like manager biases or getting a better normalization of salaries (money does not have the same value now and 100 years ago)."
   ]
  },
  {
   "cell_type": "markdown",
   "metadata": {
    "collapsed": true
   },
   "source": [
    "## Question 3\n",
    "### Is there a correlation between winning teams and managers?\n",
    "The plot displaying the distribution of manager scores seems to be perfectly symmetric. Which simply means that there are managers for all teams, from worst to best."
   ]
  },
  {
   "cell_type": "code",
   "execution_count": 26,
   "metadata": {},
   "outputs": [
    {
     "data": {
      "image/png": "[encoded data removed]",
      "text/plain": [
       "<matplotlib.figure.Figure at 0x7f9333a80898>"
      ]
     },
     "metadata": {},
     "output_type": "display_data"
    }
   ],
   "source": [
    "managers = dataframes['Managers']\n",
    "mscores = managers.apply(calc_score, axis=1)\n",
    "managers['score'] = mscores\n",
    "managers = managers.groupby('playerID', as_index=False).sum()[['playerID', 'score', 'rank']]\n",
    "best_managers = managers.sort_values('score', ascending=False)\n",
    "distribution(mscores, color='g', xlabel='Score', ylabel='Managers', title='Manager Score Distribution')"
   ]
  },
  {
   "cell_type": "markdown",
   "metadata": {},
   "source": [
    "It seems that best teams were managed by the best managers (or managers are considered the best because they won more games). This shows me how important leadership is to succeed."
   ]
  },
  {
   "cell_type": "code",
   "execution_count": 27,
   "metadata": {},
   "outputs": [
    {
     "data": {
      "image/png": "[encoded data removed]",
      "text/plain": [
       "<matplotlib.figure.Figure at 0x7f932e8dbc18>"
      ]
     },
     "metadata": {},
     "output_type": "display_data"
    }
   ],
   "source": [
    "manager_rank_score_corr = best_managers.sort_values('score', ascending=False).iloc[0:100][['playerID', 'score', 'rank']]\n",
    "plot_correlation(x=manager_rank_score_corr['rank'], y=manager_rank_score_corr['score'], xlabel='Rank', ylabel='Score', title='Correlation between Manager Score and Ranking')"
   ]
  },
  {
   "cell_type": "markdown",
   "metadata": {},
   "source": [
    "## Limitations\n",
    "\n",
    "I think there are many variables that I could include to see whether data could tell us anything more interesting, perhaps using Pitching, Fielding and Batting tables. Even curious patterns like birth or death places, or even doing the opposite job, like finding patterns correlating with losing teams.\n",
    "\n",
    "The following and last plot shows where players die more often. Please don't play baseball in Philadelphia!!!"
   ]
  },
  {
   "cell_type": "code",
   "execution_count": 28,
   "metadata": {
    "scrolled": false
   },
   "outputs": [
    {
     "data": {
      "image/png": "[encoded data removed]",
      "text/plain": [
       "<matplotlib.figure.Figure at 0x7f932e9332b0>"
      ]
     },
     "metadata": {},
     "output_type": "display_data"
    }
   ],
   "source": [
    "player_death_city = dataframes['Master'][['playerID', 'deathCity']].dropna().merge(players_results, on='playerID', how='left')\n",
    "worst_players = player_death_city.sort_values('score')[['playerID', 'deathCity', 'score']].dropna()\n",
    "top10_worst = worst_players[worst_players['score'] < worst_players.quantile(q=0.1)['score']].sort_values('score').groupby('deathCity', as_index=False)['playerID'].count().sort_values('playerID', ascending=False).iloc[0:10]\n",
    "#display(top10_worst.iloc[0:10])\n",
    "f, ax = plt.subplots(figsize=(10, 7))\n",
    "sns.barplot(x=\"deathCity\", y=\"playerID\", data=top10_worst)\n",
    "#sns.stripplot(x=\"deathCity\", y=\"playerID\", data=top10_worst)\n",
    "ax.set(xlabel='Death City', ylabel='Amount of Dead Players')\n",
    "f.suptitle('Just for fun: Most deadly cities to play baseball');"
   ]
  },
  {
   "cell_type": "markdown",
   "metadata": {},
   "source": [
    "## Conclusion\n",
    "\n",
    "I've found that the best-reported player was *Henry Louis* (not reporting school).<br>\n",
    "To answer the questions I had at the beginning, I've found that *Columbia* is the school with more best players. However, there were many missing relationships between players and the schools they went. This means that this school is only the best after ignoring best players who didn't report schools.\n",
    "\n",
    "About highest salaries, *Alexander Emmanuel* seems to be the luckiest one with more than *USD 18M*. On the other hand, the one with the best-reported performance was *Derek Sanderson*.\n",
    "\n",
    "Now, the most important fact, in my opinion, is the last question: Is there a correlation between best players and managers? Well, there is. I've found that leadership seems to be strongly involved in success: Players and teams were better with best-ranked managers."
   ]
  },
  {
   "cell_type": "markdown",
   "metadata": {},
   "source": [
    "## Dataset Reference\n",
    "Sean Lahman, Award Winning Database Journalist and Author.\n",
    "\n",
    "Website: http://www.seanlahman.com/baseball-archive/statistics/"
   ]
  }
 ],
 "metadata": {
  "kernelspec": {
   "display_name": "Python [default]",
   "language": "python",
   "name": "python3"
  },
  "language_info": {
   "codemirror_mode": {
    "name": "ipython",
    "version": 3
   },
   "file_extension": ".py",
   "mimetype": "text/x-python",
   "name": "python",
   "nbconvert_exporter": "python",
   "pygments_lexer": "ipython3",
   "version": "3.6.1"
  }
 },
 "nbformat": 4,
 "nbformat_minor": 2
}
